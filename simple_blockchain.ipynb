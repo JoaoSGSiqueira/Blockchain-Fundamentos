{
 "cells": [
  {
   "cell_type": "code",
   "execution_count": 2,
   "metadata": {},
   "outputs": [],
   "source": [
    "import hashlib\n",
    "import time"
   ]
  },
  {
   "cell_type": "code",
   "execution_count": 3,
   "metadata": {},
   "outputs": [],
   "source": [
    "class Block:\n",
    "    def __init__(self, block_number, previous_hash, transactions):\n",
    "        self.block_number = block_number\n",
    "        self.timestamp = time.time()\n",
    "        self.transactions = transactions\n",
    "        self.previous_hash = previous_hash\n",
    "        self.hash = self.calculate_hash()\n",
    "\n",
    "    def calculate_hash(self):\n",
    "        data = (\n",
    "            str(self.block_number)\n",
    "            + str(self.timestamp)\n",
    "            + str(self.transactions)\n",
    "            + str(self.previous_hash)\n",
    "        )\n",
    "        return hashlib.sha256(data.encode()).hexdigest()"
   ]
  },
  {
   "cell_type": "code",
   "execution_count": 4,
   "metadata": {},
   "outputs": [],
   "source": [
    "class Blockchain:\n",
    "    def __init__(self):\n",
    "        self.chain = [self.create_genesis_block()]\n",
    "\n",
    "    def create_genesis_block(self):\n",
    "        # Create the first block in the chain (Genesis Block)\n",
    "        return Block(0, \"0\", \"Genesis Block\")\n",
    "\n",
    "    def add_block(self, transactions):\n",
    "        # Add a new block to the blockchain\n",
    "        block_number = len(self.chain)\n",
    "        previous_hash = self.chain[-1].hash\n",
    "        new_block = Block(block_number, previous_hash, transactions)\n",
    "        self.chain.append(new_block)\n",
    "\n",
    "    def display_chain(self):\n",
    "        # Display the entire blockchain\n",
    "        for block in self.chain:\n",
    "            print(f\"Block #{block.block_number} | Hash: {block.hash}\")\n",
    "            print(f\"Transactions: {block.transactions}\")\n",
    "            print(\"--------------\")"
   ]
  },
  {
   "cell_type": "code",
   "execution_count": 5,
   "metadata": {},
   "outputs": [
    {
     "name": "stdout",
     "output_type": "stream",
     "text": [
      "Block #0 | Hash: c8752658688fb688337ec131724691c64003a5270952b3579b2e9890ac78fb3d\n",
      "Transactions: Genesis Block\n",
      "--------------\n",
      "Block #1 | Hash: 86bfa39e30c3d426248bda86ac33fdd80832f5ca8f92e485f1a70d082bde1a0d\n",
      "Transactions: Transfer 10 BTC from Alice to Bob\n",
      "--------------\n",
      "Block #2 | Hash: d2a0eb780fd76213d1096ce7d762afa3ad39045f99e2ad4bcdfb87cb8eb8a158\n",
      "Transactions: Transfer 5 BTC from Bob to Charlie\n",
      "--------------\n",
      "Block #3 | Hash: b861d7017a5b811203baed819739e5ac02ec2a6de23923f0405c6237bead63ea\n",
      "Transactions: Transfer 8 BTC from Alice to Eve\n",
      "--------------\n"
     ]
    }
   ],
   "source": [
    "# Example Usage\n",
    "if __name__ == \"__main__\":\n",
    "    # Create a blockchain\n",
    "    my_blockchain = Blockchain()\n",
    "\n",
    "    # Add transactions to the blockchain\n",
    "    transactions1 = \"Transfer 10 BTC from Alice to Bob\"\n",
    "    my_blockchain.add_block(transactions1)\n",
    "\n",
    "    transactions2 = \"Transfer 5 BTC from Bob to Charlie\"\n",
    "    my_blockchain.add_block(transactions2)\n",
    "\n",
    "    transactions3 = \"Transfer 8 BTC from Alice to Eve\"\n",
    "    my_blockchain.add_block(transactions3)\n",
    "\n",
    "    # Display the blockchain\n",
    "    my_blockchain.display_chain()"
   ]
  }
 ],
 "metadata": {
  "kernelspec": {
   "display_name": "Python 3",
   "language": "python",
   "name": "python3"
  },
  "language_info": {
   "codemirror_mode": {
    "name": "ipython",
    "version": 3
   },
   "file_extension": ".py",
   "mimetype": "text/x-python",
   "name": "python",
   "nbconvert_exporter": "python",
   "pygments_lexer": "ipython3",
   "version": "3.10.7"
  }
 },
 "nbformat": 4,
 "nbformat_minor": 2
}
