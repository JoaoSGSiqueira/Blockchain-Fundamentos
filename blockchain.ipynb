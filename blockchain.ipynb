{
 "cells": [
  {
   "cell_type": "code",
   "execution_count": 82,
   "metadata": {},
   "outputs": [],
   "source": [
    "import hashlib\n",
    "import time\n",
    "import random\n",
    "import string"
   ]
  },
  {
   "cell_type": "markdown",
   "metadata": {},
   "source": [
    "### Defines the Block which has a number, timestamp, transaction data, previous hash and its hash"
   ]
  },
  {
   "cell_type": "code",
   "execution_count": 118,
   "metadata": {},
   "outputs": [],
   "source": [
    "class Block:\n",
    "    def __init__(self, block_number, previous_hash, transactions):\n",
    "        self.block_number = block_number\n",
    "        self.timestamp = time.time()\n",
    "        self.transactions = transactions\n",
    "        self.previous_hash = previous_hash\n",
    "        self.hash = self.calculate_hash()\n",
    "\n",
    "    def calculate_hash(self):\n",
    "        data = (\n",
    "            str(self.block_number)\n",
    "            + str(self.timestamp)\n",
    "            + str([transaction.transaction_id for transaction in self.transactions])\n",
    "            + str(self.previous_hash)\n",
    "        )\n",
    "        return hashlib.sha256(data.encode()).hexdigest()"
   ]
  },
  {
   "cell_type": "markdown",
   "metadata": {},
   "source": [
    "### Defines the blockchain Creates the first block when called and then has a function to add_blocks (in a real blockchain the Blockchain.chain would be immutable but in this case it isn't)"
   ]
  },
  {
   "cell_type": "code",
   "execution_count": 115,
   "metadata": {},
   "outputs": [],
   "source": [
    "class Blockchain:\n",
    "    def __init__(self):\n",
    "        self.chain = [self.create_genesis_block()]\n",
    "\n",
    "    def create_genesis_block(self):\n",
    "        # Create the first block in the chain (Genesis Block)\n",
    "         return Block(0, \"0\", [])\n",
    "\n",
    "    def add_block(self, transactions):\n",
    "        if isinstance(transactions, str):\n",
    "            # Handle string transactions (original implementation)\n",
    "            transactions = [transactions]\n",
    "\n",
    "        block_number = len(self.chain)\n",
    "        # Get the hash of the previous block\n",
    "        previous_hash = self.chain[-1].hash\n",
    "\n",
    "        # Create the new block based on the transactions and add it to the chain\n",
    "        new_block = Block(block_number, previous_hash, transactions)\n",
    "        self.chain.append(new_block)\n",
    "\n",
    "    def display_chain(self):\n",
    "        for block in self.chain:\n",
    "            formatted_timestamp = time.strftime(\"%m/%d/%Y %H:%M:%S\", time.localtime(block.timestamp))\n",
    "            transaction_ids = [transaction.transaction_id for transaction in block.transactions]\n",
    "            print(f\"Block #{block.block_number} | Hash: {block.hash}\")\n",
    "            print(f\"Timestamp: {formatted_timestamp}\")\n",
    "            print(f\"Transaction IDs: {transaction_ids}\")\n",
    "            print(\"--------------\")"
   ]
  },
  {
   "cell_type": "code",
   "execution_count": 104,
   "metadata": {},
   "outputs": [],
   "source": [
    "dummy_transactions = {\n",
    "    \"transaction1\": \"Transfer 10 BTC from Alice to Bob\",\n",
    "    \"transaction2\": \"Transfer 5 BTC from Bob to Charlie\",\n",
    "    \"transaction3\": \"Transfer 8 BTC from Alice to Eve\",\n",
    "    \"transaction4\": \"Transfer 15 BTC from Charlie to Bob\",\n",
    "    \"transaction5\": \"Transfer 7 BTC from Eve to Alice\",\n",
    "    \"transaction6\": \"Transfer 20 BTC from Bob to Alice\",\n",
    "    \"transaction7\": \"Transfer 12 BTC from Charlie to Eve\",\n",
    "    \"transaction8\": \"Transfer 6 BTC from Bob to Alice\",\n",
    "    \"transaction9\": \"Transfer 9 BTC from Alice to Charlie\",\n",
    "    \"transaction10\": \"Transfer 11 BTC from Eve to Bob\",\n",
    "}"
   ]
  },
  {
   "cell_type": "markdown",
   "metadata": {},
   "source": [
    "### Example Usage 1 of the Blockchain class adding dummy transactions"
   ]
  },
  {
   "cell_type": "code",
   "execution_count": 117,
   "metadata": {},
   "outputs": [
    {
     "ename": "AttributeError",
     "evalue": "'str' object has no attribute 'transaction_id'",
     "output_type": "error",
     "traceback": [
      "\u001b[1;31m---------------------------------------------------------------------------\u001b[0m",
      "\u001b[1;31mAttributeError\u001b[0m                            Traceback (most recent call last)",
      "\u001b[1;32mc:\\Users\\manei\\OneDrive\\Documents\\GitHub\\Blockchain Simples Fundamentos\\blockchain.ipynb Cell 8\u001b[0m line \u001b[0;36m8\n\u001b[0;32m      <a href='vscode-notebook-cell:/c%3A/Users/manei/OneDrive/Documents/GitHub/Blockchain%20Simples%20Fundamentos/blockchain.ipynb#W6sZmlsZQ%3D%3D?line=5'>6</a>\u001b[0m \u001b[39m# Add dummy transactions to the blockchain for each in dict\u001b[39;00m\n\u001b[0;32m      <a href='vscode-notebook-cell:/c%3A/Users/manei/OneDrive/Documents/GitHub/Blockchain%20Simples%20Fundamentos/blockchain.ipynb#W6sZmlsZQ%3D%3D?line=6'>7</a>\u001b[0m \u001b[39mfor\u001b[39;00m transaction \u001b[39min\u001b[39;00m dummy_transactions\u001b[39m.\u001b[39mvalues():\n\u001b[1;32m----> <a href='vscode-notebook-cell:/c%3A/Users/manei/OneDrive/Documents/GitHub/Blockchain%20Simples%20Fundamentos/blockchain.ipynb#W6sZmlsZQ%3D%3D?line=7'>8</a>\u001b[0m     my_blockchain\u001b[39m.\u001b[39;49madd_block(transaction)\n\u001b[0;32m     <a href='vscode-notebook-cell:/c%3A/Users/manei/OneDrive/Documents/GitHub/Blockchain%20Simples%20Fundamentos/blockchain.ipynb#W6sZmlsZQ%3D%3D?line=10'>11</a>\u001b[0m \u001b[39m# Display the blockchain\u001b[39;00m\n\u001b[0;32m     <a href='vscode-notebook-cell:/c%3A/Users/manei/OneDrive/Documents/GitHub/Blockchain%20Simples%20Fundamentos/blockchain.ipynb#W6sZmlsZQ%3D%3D?line=11'>12</a>\u001b[0m my_blockchain\u001b[39m.\u001b[39mdisplay_chain()\n",
      "\u001b[1;32mc:\\Users\\manei\\OneDrive\\Documents\\GitHub\\Blockchain Simples Fundamentos\\blockchain.ipynb Cell 8\u001b[0m line \u001b[0;36m1\n\u001b[0;32m     <a href='vscode-notebook-cell:/c%3A/Users/manei/OneDrive/Documents/GitHub/Blockchain%20Simples%20Fundamentos/blockchain.ipynb#W6sZmlsZQ%3D%3D?line=15'>16</a>\u001b[0m previous_hash \u001b[39m=\u001b[39m \u001b[39mself\u001b[39m\u001b[39m.\u001b[39mchain[\u001b[39m-\u001b[39m\u001b[39m1\u001b[39m]\u001b[39m.\u001b[39mhash\n\u001b[0;32m     <a href='vscode-notebook-cell:/c%3A/Users/manei/OneDrive/Documents/GitHub/Blockchain%20Simples%20Fundamentos/blockchain.ipynb#W6sZmlsZQ%3D%3D?line=17'>18</a>\u001b[0m \u001b[39m# Create the new block based on the transactions and add it to the chain\u001b[39;00m\n\u001b[1;32m---> <a href='vscode-notebook-cell:/c%3A/Users/manei/OneDrive/Documents/GitHub/Blockchain%20Simples%20Fundamentos/blockchain.ipynb#W6sZmlsZQ%3D%3D?line=18'>19</a>\u001b[0m new_block \u001b[39m=\u001b[39m Block(block_number, previous_hash, transactions)\n\u001b[0;32m     <a href='vscode-notebook-cell:/c%3A/Users/manei/OneDrive/Documents/GitHub/Blockchain%20Simples%20Fundamentos/blockchain.ipynb#W6sZmlsZQ%3D%3D?line=19'>20</a>\u001b[0m \u001b[39mself\u001b[39m\u001b[39m.\u001b[39mchain\u001b[39m.\u001b[39mappend(new_block)\n",
      "\u001b[1;32mc:\\Users\\manei\\OneDrive\\Documents\\GitHub\\Blockchain Simples Fundamentos\\blockchain.ipynb Cell 8\u001b[0m line \u001b[0;36m7\n\u001b[0;32m      <a href='vscode-notebook-cell:/c%3A/Users/manei/OneDrive/Documents/GitHub/Blockchain%20Simples%20Fundamentos/blockchain.ipynb#W6sZmlsZQ%3D%3D?line=4'>5</a>\u001b[0m \u001b[39mself\u001b[39m\u001b[39m.\u001b[39mtransactions \u001b[39m=\u001b[39m transactions\n\u001b[0;32m      <a href='vscode-notebook-cell:/c%3A/Users/manei/OneDrive/Documents/GitHub/Blockchain%20Simples%20Fundamentos/blockchain.ipynb#W6sZmlsZQ%3D%3D?line=5'>6</a>\u001b[0m \u001b[39mself\u001b[39m\u001b[39m.\u001b[39mprevious_hash \u001b[39m=\u001b[39m previous_hash\n\u001b[1;32m----> <a href='vscode-notebook-cell:/c%3A/Users/manei/OneDrive/Documents/GitHub/Blockchain%20Simples%20Fundamentos/blockchain.ipynb#W6sZmlsZQ%3D%3D?line=6'>7</a>\u001b[0m \u001b[39mself\u001b[39m\u001b[39m.\u001b[39mhash \u001b[39m=\u001b[39m \u001b[39mself\u001b[39;49m\u001b[39m.\u001b[39;49mcalculate_hash()\n",
      "\u001b[1;32mc:\\Users\\manei\\OneDrive\\Documents\\GitHub\\Blockchain Simples Fundamentos\\blockchain.ipynb Cell 8\u001b[0m line \u001b[0;36m1\n\u001b[0;32m      <a href='vscode-notebook-cell:/c%3A/Users/manei/OneDrive/Documents/GitHub/Blockchain%20Simples%20Fundamentos/blockchain.ipynb#W6sZmlsZQ%3D%3D?line=8'>9</a>\u001b[0m \u001b[39mdef\u001b[39;00m \u001b[39mcalculate_hash\u001b[39m(\u001b[39mself\u001b[39m):\n\u001b[0;32m     <a href='vscode-notebook-cell:/c%3A/Users/manei/OneDrive/Documents/GitHub/Blockchain%20Simples%20Fundamentos/blockchain.ipynb#W6sZmlsZQ%3D%3D?line=9'>10</a>\u001b[0m     data \u001b[39m=\u001b[39m (\n\u001b[0;32m     <a href='vscode-notebook-cell:/c%3A/Users/manei/OneDrive/Documents/GitHub/Blockchain%20Simples%20Fundamentos/blockchain.ipynb#W6sZmlsZQ%3D%3D?line=10'>11</a>\u001b[0m         \u001b[39mstr\u001b[39m(\u001b[39mself\u001b[39m\u001b[39m.\u001b[39mblock_number)\n\u001b[0;32m     <a href='vscode-notebook-cell:/c%3A/Users/manei/OneDrive/Documents/GitHub/Blockchain%20Simples%20Fundamentos/blockchain.ipynb#W6sZmlsZQ%3D%3D?line=11'>12</a>\u001b[0m         \u001b[39m+\u001b[39m \u001b[39mstr\u001b[39m(\u001b[39mself\u001b[39m\u001b[39m.\u001b[39mtimestamp)\n\u001b[1;32m---> <a href='vscode-notebook-cell:/c%3A/Users/manei/OneDrive/Documents/GitHub/Blockchain%20Simples%20Fundamentos/blockchain.ipynb#W6sZmlsZQ%3D%3D?line=12'>13</a>\u001b[0m         \u001b[39m+\u001b[39m \u001b[39mstr\u001b[39m([transaction\u001b[39m.\u001b[39mtransaction_id \u001b[39mfor\u001b[39;00m transaction \u001b[39min\u001b[39;00m \u001b[39mself\u001b[39m\u001b[39m.\u001b[39mtransactions])  \u001b[39m# Extract transaction IDs\u001b[39;00m\n\u001b[0;32m     <a href='vscode-notebook-cell:/c%3A/Users/manei/OneDrive/Documents/GitHub/Blockchain%20Simples%20Fundamentos/blockchain.ipynb#W6sZmlsZQ%3D%3D?line=13'>14</a>\u001b[0m         \u001b[39m+\u001b[39m \u001b[39mstr\u001b[39m(\u001b[39mself\u001b[39m\u001b[39m.\u001b[39mprevious_hash)\n\u001b[0;32m     <a href='vscode-notebook-cell:/c%3A/Users/manei/OneDrive/Documents/GitHub/Blockchain%20Simples%20Fundamentos/blockchain.ipynb#W6sZmlsZQ%3D%3D?line=14'>15</a>\u001b[0m     )\n\u001b[0;32m     <a href='vscode-notebook-cell:/c%3A/Users/manei/OneDrive/Documents/GitHub/Blockchain%20Simples%20Fundamentos/blockchain.ipynb#W6sZmlsZQ%3D%3D?line=15'>16</a>\u001b[0m     \u001b[39mreturn\u001b[39;00m hashlib\u001b[39m.\u001b[39msha256(data\u001b[39m.\u001b[39mencode())\u001b[39m.\u001b[39mhexdigest()\n",
      "\u001b[1;32mc:\\Users\\manei\\OneDrive\\Documents\\GitHub\\Blockchain Simples Fundamentos\\blockchain.ipynb Cell 8\u001b[0m line \u001b[0;36m1\n\u001b[0;32m      <a href='vscode-notebook-cell:/c%3A/Users/manei/OneDrive/Documents/GitHub/Blockchain%20Simples%20Fundamentos/blockchain.ipynb#W6sZmlsZQ%3D%3D?line=8'>9</a>\u001b[0m \u001b[39mdef\u001b[39;00m \u001b[39mcalculate_hash\u001b[39m(\u001b[39mself\u001b[39m):\n\u001b[0;32m     <a href='vscode-notebook-cell:/c%3A/Users/manei/OneDrive/Documents/GitHub/Blockchain%20Simples%20Fundamentos/blockchain.ipynb#W6sZmlsZQ%3D%3D?line=9'>10</a>\u001b[0m     data \u001b[39m=\u001b[39m (\n\u001b[0;32m     <a href='vscode-notebook-cell:/c%3A/Users/manei/OneDrive/Documents/GitHub/Blockchain%20Simples%20Fundamentos/blockchain.ipynb#W6sZmlsZQ%3D%3D?line=10'>11</a>\u001b[0m         \u001b[39mstr\u001b[39m(\u001b[39mself\u001b[39m\u001b[39m.\u001b[39mblock_number)\n\u001b[0;32m     <a href='vscode-notebook-cell:/c%3A/Users/manei/OneDrive/Documents/GitHub/Blockchain%20Simples%20Fundamentos/blockchain.ipynb#W6sZmlsZQ%3D%3D?line=11'>12</a>\u001b[0m         \u001b[39m+\u001b[39m \u001b[39mstr\u001b[39m(\u001b[39mself\u001b[39m\u001b[39m.\u001b[39mtimestamp)\n\u001b[1;32m---> <a href='vscode-notebook-cell:/c%3A/Users/manei/OneDrive/Documents/GitHub/Blockchain%20Simples%20Fundamentos/blockchain.ipynb#W6sZmlsZQ%3D%3D?line=12'>13</a>\u001b[0m         \u001b[39m+\u001b[39m \u001b[39mstr\u001b[39m([transaction\u001b[39m.\u001b[39;49mtransaction_id \u001b[39mfor\u001b[39;00m transaction \u001b[39min\u001b[39;00m \u001b[39mself\u001b[39m\u001b[39m.\u001b[39mtransactions])  \u001b[39m# Extract transaction IDs\u001b[39;00m\n\u001b[0;32m     <a href='vscode-notebook-cell:/c%3A/Users/manei/OneDrive/Documents/GitHub/Blockchain%20Simples%20Fundamentos/blockchain.ipynb#W6sZmlsZQ%3D%3D?line=13'>14</a>\u001b[0m         \u001b[39m+\u001b[39m \u001b[39mstr\u001b[39m(\u001b[39mself\u001b[39m\u001b[39m.\u001b[39mprevious_hash)\n\u001b[0;32m     <a href='vscode-notebook-cell:/c%3A/Users/manei/OneDrive/Documents/GitHub/Blockchain%20Simples%20Fundamentos/blockchain.ipynb#W6sZmlsZQ%3D%3D?line=14'>15</a>\u001b[0m     )\n\u001b[0;32m     <a href='vscode-notebook-cell:/c%3A/Users/manei/OneDrive/Documents/GitHub/Blockchain%20Simples%20Fundamentos/blockchain.ipynb#W6sZmlsZQ%3D%3D?line=15'>16</a>\u001b[0m     \u001b[39mreturn\u001b[39;00m hashlib\u001b[39m.\u001b[39msha256(data\u001b[39m.\u001b[39mencode())\u001b[39m.\u001b[39mhexdigest()\n",
      "\u001b[1;31mAttributeError\u001b[0m: 'str' object has no attribute 'transaction_id'"
     ]
    }
   ],
   "source": [
    "# Example Usage \n",
    "if __name__ == \"__main__\":\n",
    "    # Create a blockchain\n",
    "    my_blockchain = Blockchain()\n",
    "\n",
    "    # Add dummy transactions to the blockchain for each in dict\n",
    "    for transaction in dummy_transactions.values():\n",
    "        my_blockchain.add_block(transaction)\n",
    "\n",
    "\n",
    "    # Display the blockchain\n",
    "    my_blockchain.display_chain()"
   ]
  },
  {
   "cell_type": "markdown",
   "metadata": {},
   "source": [
    "### Example use case with Real Wallets"
   ]
  },
  {
   "cell_type": "code",
   "execution_count": 106,
   "metadata": {},
   "outputs": [],
   "source": [
    "class Wallet:\n",
    "    def __init__(self, name):\n",
    "        # Generate a random private and public key pair for the wallet\n",
    "        self.name = name\n",
    "        self.private_key = ''.join(random.choices(string.ascii_letters + string.digits, k=32))\n",
    "        self.public_key = hashlib.sha256(self.private_key.encode()).hexdigest()\n",
    "        self.balance = 0\n",
    "\n",
    "    def display_wallet(self):\n",
    "        print(f\"Wallet {self.name}:\")\n",
    "        print(f\"  Public Key: {self.public_key}\")\n",
    "        print(f\"  Private Key: {self.private_key}\")\n",
    "        print(f\"  Balance: {self.balance} units\")"
   ]
  },
  {
   "cell_type": "code",
   "execution_count": 109,
   "metadata": {},
   "outputs": [],
   "source": [
    "class Transaction:\n",
    "    def __init__(self, sender, recipient, amount):\n",
    "        self.sender = sender\n",
    "        self.recipient = recipient\n",
    "        self.amount = amount\n",
    "        self.timestamp = time.time()\n",
    "        self.transaction_id = self.calculate_transaction_id()\n",
    "\n",
    "    def calculate_transaction_id(self):\n",
    "        # Hash the transaction details to create a unique identifier\n",
    "        data = f\"{self.sender.public_key}{self.recipient.public_key}{self.amount}{self.timestamp}\"\n",
    "        return hashlib.sha256(data.encode()).hexdigest()\n",
    "\n",
    "    def execute_transaction(self):\n",
    "        # Update sender and recipient balances based on the transaction\n",
    "        self.sender.balance -= self.amount\n",
    "        self.recipient.balance += self.amount\n",
    "\n",
    "    def display_transaction(self):\n",
    "        print(\"Transaction:\")\n",
    "        print(f\"  Sender Public Key: {self.sender.public_key}\")\n",
    "        print(f\"  Recipient Public Key: {self.recipient.public_key}\")\n",
    "        print(f\"  Amount: {self.amount}\")\n",
    "        print(f\"  Timestamp: {self.timestamp}\")\n",
    "        print(f\"  Transaction ID: {self.transaction_id}\")"
   ]
  },
  {
   "cell_type": "code",
   "execution_count": 114,
   "metadata": {},
   "outputs": [
    {
     "name": "stdout",
     "output_type": "stream",
     "text": [
      "Transaction:\n",
      "  Sender Public Key: 9a31e4fbca3363a43600e509105c0863066c394aa30d2106b5539b64b1a95021\n",
      "  Recipient Public Key: 2208f83ca2628058e059acd6e55a388a996b66cca3a9f1ae880196ea13c190c5\n",
      "  Amount: 10\n",
      "  Timestamp: 1701748156.2947066\n",
      "  Transaction ID: d2b79f9555bf23c32566fcdf90f0c74cb80181ad4993cf34ef7e3c234286255c\n",
      "Transaction:\n",
      "  Sender Public Key: 2208f83ca2628058e059acd6e55a388a996b66cca3a9f1ae880196ea13c190c5\n",
      "  Recipient Public Key: 3a17c3eed7f1a186392df740119d0708000dd133aec5c66b726d9a6c2d1bf718\n",
      "  Amount: 5\n",
      "  Timestamp: 1701748156.2947066\n",
      "  Transaction ID: e174f8daee21314e88da110e45f1c9149be4259aaf16ff278b2ab8cfe2e68404\n",
      "Block #0 | Hash: c64d5a9a74de96b2719c67af1e41b4d195b0dbd49b79555aba4e7157392f01a3\n",
      "Timestamp: 12/05/2023 00:49:16\n",
      "Transaction IDs: []\n",
      "--------------\n",
      "Block #1 | Hash: b77e212f0627717645b22fec905035b6e6eee3489290915c06efe8d66d4b8376\n",
      "Timestamp: 12/05/2023 00:49:16\n",
      "Transaction IDs: ['d2b79f9555bf23c32566fcdf90f0c74cb80181ad4993cf34ef7e3c234286255c', 'e174f8daee21314e88da110e45f1c9149be4259aaf16ff278b2ab8cfe2e68404']\n",
      "--------------\n"
     ]
    }
   ],
   "source": [
    "if __name__ == \"__main__\":\n",
    "    # Create wallets\n",
    "    alice_wallet = Wallet(\"Alice\")\n",
    "    bob_wallet = Wallet(\"Bob\")\n",
    "    eve_wallet = Wallet(\"Eve\")\n",
    "\n",
    "\n",
    "    # Create a blockchain\n",
    "    my_blockchain = Blockchain()\n",
    "\n",
    "    # Create transactions\n",
    "    transaction1 = Transaction(alice_wallet, bob_wallet, 10)\n",
    "    transaction2 = Transaction(bob_wallet, eve_wallet, 5)\n",
    "\n",
    "    # Display transaction information\n",
    "    transaction1.display_transaction()\n",
    "    transaction2.display_transaction()\n",
    "\n",
    "    # Add transactions to the blockchain\n",
    "    my_blockchain.add_block([transaction1, transaction2])\n",
    "\n",
    "    # Display the blockchain\n",
    "    my_blockchain.display_chain()"
   ]
  }
 ],
 "metadata": {
  "kernelspec": {
   "display_name": "Python 3",
   "language": "python",
   "name": "python3"
  },
  "language_info": {
   "codemirror_mode": {
    "name": "ipython",
    "version": 3
   },
   "file_extension": ".py",
   "mimetype": "text/x-python",
   "name": "python",
   "nbconvert_exporter": "python",
   "pygments_lexer": "ipython3",
   "version": "3.10.7"
  }
 },
 "nbformat": 4,
 "nbformat_minor": 2
}
