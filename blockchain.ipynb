{
 "cells": [
  {
   "cell_type": "code",
   "execution_count": 245,
   "metadata": {},
   "outputs": [],
   "source": [
    "import hashlib\n",
    "import time\n",
    "import ecdsa\n",
    "import random\n",
    "import string"
   ]
  },
  {
   "cell_type": "markdown",
   "metadata": {},
   "source": [
    "### Defines a wallet with a public and private key and balance"
   ]
  },
  {
   "cell_type": "code",
   "execution_count": 275,
   "metadata": {},
   "outputs": [],
   "source": [
    "class Wallet:\n",
    "    def __init__(self, name):\n",
    "        # Generate a random private and public key pair for the wallet using secp256k1 curve\n",
    "        self.name = name\n",
    "        self.private_key = ecdsa.SigningKey.generate(curve=ecdsa.SECP256k1).to_string().hex()\n",
    "        self.public_key = hashlib.sha256(self.private_key.encode()).hexdigest()\n",
    "        self.balance = 0\n",
    "\n",
    "    def add_balance(self, amount):\n",
    "        self.balance += amount\n",
    "        return self\n",
    "    \n",
    "    def display_all_wallet(self):\n",
    "        print(f\"Wallet {self.name}:\")\n",
    "        print(f\"  Public Key: {self.public_key}\")\n",
    "        print(f\"  Private Key: {self.private_key}\")\n",
    "        print(f\"  Balance: {self.balance} units\")\n",
    "\n",
    "    def display_public_key(self):\n",
    "        print(f\"Public Key: {self.public_key}\")\n",
    "\n",
    "    def display_private_key(self):\n",
    "        print(f\"Private Key: {self.private_key}\")"
   ]
  },
  {
   "cell_type": "markdown",
   "metadata": {},
   "source": [
    "### Defines the transaction sender, recipient, amount, time, id"
   ]
  },
  {
   "cell_type": "code",
   "execution_count": 276,
   "metadata": {},
   "outputs": [],
   "source": [
    "class Transaction:\n",
    "    def __init__(self, sender, recipient, amount):\n",
    "        self.sender = sender\n",
    "        self.recipient = recipient\n",
    "        self.amount = amount\n",
    "        self.timestamp = time.time()\n",
    "        self.transaction_id = self.calculate_transaction_id()\n",
    "\n",
    "    def calculate_transaction_id(self):\n",
    "        # Hash the transaction details to create a unique identifier\n",
    "        data = f\"{self.sender.public_key if self.sender else 'None'}{self.recipient.public_key}{self.amount}{self.timestamp}\"\n",
    "        return hashlib.sha256(data.encode()).hexdigest()\n",
    "\n",
    "    def end_transaction(self):\n",
    "        if self.sender and self.sender.balance < self.amount:\n",
    "            raise ValueError(\"Insufficient funds for the transaction.\")\n",
    "\n",
    "        # Add the amount to the recipient's balance\n",
    "        self.recipient.balance += self.amount\n",
    "\n",
    "\n",
    "    def display_transaction(self):\n",
    "        formatted_timestamp = time.strftime(\"%m/%d/%Y %H:%M:%S\", time.localtime(self.timestamp))\n",
    "        print(\"Transaction:\")\n",
    "        print(f\"  Sender Public Key: {self.sender.public_key if self.sender else 'None'}\")\n",
    "        print(f\"  Recipient Public Key: {self.recipient.public_key}\")\n",
    "        print(f\"  Amount: {self.amount}\")\n",
    "        print(f\"  Timestamp: {formatted_timestamp}\")\n",
    "        print(f\"  Transaction ID: {self.transaction_id}\")"
   ]
  },
  {
   "cell_type": "markdown",
   "metadata": {},
   "source": [
    "### Defines the Block which has a number, timestamp, transaction data, previous hash and its hash"
   ]
  },
  {
   "cell_type": "code",
   "execution_count": 277,
   "metadata": {},
   "outputs": [],
   "source": [
    "class Block:\n",
    "    def __init__(self, block_number, previous_hash, transactions):\n",
    "        self.block_number = block_number\n",
    "        self.timestamp = time.time()\n",
    "        self.transactions = transactions\n",
    "        self.previous_hash = previous_hash\n",
    "        self.hash = self.calculate_hash()\n",
    "\n",
    "    def calculate_hash(self):\n",
    "        data = (\n",
    "            str(self.block_number)\n",
    "            + str(self.timestamp)\n",
    "            + str([transaction.transaction_id for transaction in self.transactions])\n",
    "            + str(self.previous_hash)\n",
    "        )\n",
    "        return hashlib.sha256(data.encode()).hexdigest()"
   ]
  },
  {
   "cell_type": "markdown",
   "metadata": {},
   "source": [
    "### Defines the blockchain Creates the first block when called and then has a function to add_blocks (in a real blockchain the Blockchain.chain would be immutable but in this case it isn't)"
   ]
  },
  {
   "cell_type": "code",
   "execution_count": 278,
   "metadata": {},
   "outputs": [],
   "source": [
    "class Blockchain:\n",
    "    def __init__(self):\n",
    "        self.chain = [self.create_genesis_block()]\n",
    "        self.current_transactions = []\n",
    "\n",
    "    def create_genesis_block(self):\n",
    "        # Create the first block in the chain (Genesis Block)\n",
    "        return Block(0, \"0\", [])\n",
    "\n",
    "    def mine_block(self, miner_wallet, miner_reward):\n",
    "        # Create a new block with the pending transactions\n",
    "        new_block = Block(len(self.chain), self.chain[-1].hash, self.current_transactions)\n",
    "        # Reset the list of pending transactions\n",
    "        self.current_transactions = []\n",
    "\n",
    "        # Reward the miner for mining a new block\n",
    "        miner_transaction = Transaction(None, miner_wallet, miner_reward)\n",
    "        miner_transaction.end_transaction()\n",
    "\n",
    "        # Execute all transactions in the mined block\n",
    "        for transaction in new_block.transactions:\n",
    "            transaction.end_transaction()\n",
    "\n",
    "        # Add the new block to the blockchain\n",
    "        self.chain.append(new_block)\n",
    "\n",
    "    def add_transaction(self, transaction):\n",
    "        # Ensure that the transaction is valid before adding it to the blockchain\n",
    "        if not isinstance(transaction, Transaction):\n",
    "            raise ValueError(\"Invalid transaction. Must be an instance of the Transaction class.\")\n",
    "\n",
    "        if transaction.sender:\n",
    "            if transaction.sender.balance < transaction.amount:\n",
    "                raise ValueError(\"Insufficient funds for the transaction.\")\n",
    "\n",
    "            # Deduct the amount from the sender's balance\n",
    "            transaction.sender.balance -= transaction.amount\n",
    "\n",
    "        # Add the transaction to the list of current transactions\n",
    "        self.current_transactions.append(transaction)\n",
    "\n",
    "    def display_chain(self):\n",
    "        for block in self.chain:\n",
    "            formatted_timestamp = time.strftime(\"%m/%d/%Y %H:%M:%S\", time.localtime(block.timestamp))\n",
    "            transaction_ids = [transaction.transaction_id for transaction in block.transactions]\n",
    "            print(f\"Block #{block.block_number} | Hash: {block.hash}\")\n",
    "            print(f\"Timestamp: {formatted_timestamp}\")\n",
    "            print(f\"Transaction IDs: {transaction_ids}\")\n",
    "            print(\"--------------\")"
   ]
  },
  {
   "cell_type": "markdown",
   "metadata": {},
   "source": [
    "### Mining"
   ]
  },
  {
   "cell_type": "markdown",
   "metadata": {},
   "source": [
    "--------------\n",
    "1. Transaction: Transfer 10 BTC from Alice to Bob\n",
    "2. Transaction: Transfer 5 BTC from Bob to Charlie\n",
    "3. Transaction: Transfer 8 BTC from Charlie to Alice\n",
    "--------------"
   ]
  },
  {
   "cell_type": "code",
   "execution_count": 279,
   "metadata": {},
   "outputs": [
    {
     "name": "stdout",
     "output_type": "stream",
     "text": [
      "Wallet Alice:\n",
      "  Public Key: fd147a9f01c70dccbef40a31da78d34d4af2e6fda5f437c05b121d0be9cda428\n",
      "  Private Key: 202ee6190a9f3aa40c3d4792a36d1c14bb6b3b9d7ff21788514809ab7c11d281\n",
      "  Balance: 100 units\n",
      "Wallet Bob:\n",
      "  Public Key: 8e412a0238f1c4a0fd877bee6395e20ca9e1094ea4214f4c2e13ab5af9870e06\n",
      "  Private Key: 423227a321216ed9ed326012e9053c3c9d2746e7d573dd7211a7a98995a57ded\n",
      "  Balance: 50 units\n",
      "Wallet Charlie:\n",
      "  Public Key: 74db44b942863ec16933ef2d01237a3c91352d1f965901e59021265359cad2a9\n",
      "  Private Key: 468e953f6241315da3aeac79ad4a9639604350cd362f37aa0e2af30b0c36c354\n",
      "  Balance: 30 units\n"
     ]
    }
   ],
   "source": [
    "if __name__ == \"__main__\":\n",
    "    # Create wallets\n",
    "    alice_wallet = Wallet(\"Alice\")\n",
    "    bob_wallet = Wallet(\"Bob\")\n",
    "    charlie_wallet = Wallet(\"Charlie\")\n",
    "    miner_wallet = Wallet(\"Miner\")\n",
    "\n",
    "    # Initial balances\n",
    "    alice_wallet.add_balance(100)\n",
    "    bob_wallet.add_balance(50)\n",
    "    charlie_wallet.add_balance(30)\n",
    "\n",
    "# Display initial balances\n",
    "alice_wallet.display_all_wallet()\n",
    "bob_wallet.display_all_wallet()\n",
    "charlie_wallet.display_all_wallet()"
   ]
  },
  {
   "cell_type": "code",
   "execution_count": 280,
   "metadata": {},
   "outputs": [],
   "source": [
    "# Create a blockchain\n",
    "my_blockchain = Blockchain()"
   ]
  },
  {
   "cell_type": "code",
   "execution_count": 281,
   "metadata": {},
   "outputs": [
    {
     "name": "stdout",
     "output_type": "stream",
     "text": [
      "Block #0 | Hash: 15ae31d2fcd575154151a993aad4b71b1ab95a8cc8b64ad08817a919fb9b2112\n",
      "Timestamp: 12/05/2023 02:25:35\n",
      "Transaction IDs: []\n",
      "--------------\n"
     ]
    }
   ],
   "source": [
    "my_blockchain.display_chain() # Should only display the genesis block"
   ]
  },
  {
   "cell_type": "markdown",
   "metadata": {},
   "source": [
    "### Cria as transações e as executa (ainda não terminaram)"
   ]
  },
  {
   "cell_type": "code",
   "execution_count": 282,
   "metadata": {},
   "outputs": [],
   "source": [
    "# Create transactions\n",
    "transaction1 = Transaction(alice_wallet, bob_wallet, 10)\n",
    "transaction2 = Transaction(bob_wallet, charlie_wallet, 5)\n",
    "transaction3 = Transaction(charlie_wallet, alice_wallet, 8)\n",
    "\n",
    "# Add transactions to the blockchain\n",
    "my_blockchain.add_transaction(transaction1)\n",
    "my_blockchain.add_transaction(transaction2)\n",
    "my_blockchain.add_transaction(transaction3)"
   ]
  },
  {
   "cell_type": "markdown",
   "metadata": {},
   "source": [
    "### Balanço Inicial das 3 Carteiras"
   ]
  },
  {
   "cell_type": "code",
   "execution_count": 283,
   "metadata": {},
   "outputs": [
    {
     "name": "stdout",
     "output_type": "stream",
     "text": [
      "Wallet Alice:\n",
      "  Public Key: fd147a9f01c70dccbef40a31da78d34d4af2e6fda5f437c05b121d0be9cda428\n",
      "  Private Key: 202ee6190a9f3aa40c3d4792a36d1c14bb6b3b9d7ff21788514809ab7c11d281\n",
      "  Balance: 90 units\n",
      "Wallet Bob:\n",
      "  Public Key: 8e412a0238f1c4a0fd877bee6395e20ca9e1094ea4214f4c2e13ab5af9870e06\n",
      "  Private Key: 423227a321216ed9ed326012e9053c3c9d2746e7d573dd7211a7a98995a57ded\n",
      "  Balance: 45 units\n",
      "Wallet Charlie:\n",
      "  Public Key: 74db44b942863ec16933ef2d01237a3c91352d1f965901e59021265359cad2a9\n",
      "  Private Key: 468e953f6241315da3aeac79ad4a9639604350cd362f37aa0e2af30b0c36c354\n",
      "  Balance: 22 units\n"
     ]
    }
   ],
   "source": [
    "alice_wallet.display_all_wallet()\n",
    "bob_wallet.display_all_wallet()\n",
    "charlie_wallet.display_all_wallet()"
   ]
  },
  {
   "cell_type": "markdown",
   "metadata": {},
   "source": [
    "### Publico Todos podem ver"
   ]
  },
  {
   "cell_type": "code",
   "execution_count": 284,
   "metadata": {},
   "outputs": [
    {
     "name": "stdout",
     "output_type": "stream",
     "text": [
      "Transaction:\n",
      "  Sender Public Key: fd147a9f01c70dccbef40a31da78d34d4af2e6fda5f437c05b121d0be9cda428\n",
      "  Recipient Public Key: 8e412a0238f1c4a0fd877bee6395e20ca9e1094ea4214f4c2e13ab5af9870e06\n",
      "  Amount: 10\n",
      "  Timestamp: 12/05/2023 02:25:39\n",
      "  Transaction ID: 234a500d470848753650663fd9d30cc1790233d12d6873d00b24c68cb9fa2d47\n",
      "Transaction:\n",
      "  Sender Public Key: 8e412a0238f1c4a0fd877bee6395e20ca9e1094ea4214f4c2e13ab5af9870e06\n",
      "  Recipient Public Key: 74db44b942863ec16933ef2d01237a3c91352d1f965901e59021265359cad2a9\n",
      "  Amount: 5\n",
      "  Timestamp: 12/05/2023 02:25:39\n",
      "  Transaction ID: 0ab5ee3983cb536a39cc11e18590863356b7b1ebd9aab2d3985b9a5398038b65\n",
      "Transaction:\n",
      "  Sender Public Key: 74db44b942863ec16933ef2d01237a3c91352d1f965901e59021265359cad2a9\n",
      "  Recipient Public Key: fd147a9f01c70dccbef40a31da78d34d4af2e6fda5f437c05b121d0be9cda428\n",
      "  Amount: 8\n",
      "  Timestamp: 12/05/2023 02:25:39\n",
      "  Transaction ID: 59da990c62939068c287564700f49a7e75c87038ac201fa653e34f4423c442f3\n"
     ]
    }
   ],
   "source": [
    "transaction1.display_transaction()\n",
    "transaction2.display_transaction()\n",
    "transaction3.display_transaction()"
   ]
  },
  {
   "cell_type": "markdown",
   "metadata": {},
   "source": [
    "### Bloco Minerado e final da transação"
   ]
  },
  {
   "cell_type": "code",
   "execution_count": 285,
   "metadata": {},
   "outputs": [
    {
     "name": "stdout",
     "output_type": "stream",
     "text": [
      "Block #0 | Hash: 15ae31d2fcd575154151a993aad4b71b1ab95a8cc8b64ad08817a919fb9b2112\n",
      "Timestamp: 12/05/2023 02:25:35\n",
      "Transaction IDs: []\n",
      "--------------\n",
      "Block #1 | Hash: d588d6767596d308769a3d0dc54426af97300c5ba36129ea76be320aca5fbbc2\n",
      "Timestamp: 12/05/2023 02:25:46\n",
      "Transaction IDs: ['234a500d470848753650663fd9d30cc1790233d12d6873d00b24c68cb9fa2d47', '0ab5ee3983cb536a39cc11e18590863356b7b1ebd9aab2d3985b9a5398038b65', '59da990c62939068c287564700f49a7e75c87038ac201fa653e34f4423c442f3']\n",
      "--------------\n"
     ]
    }
   ],
   "source": [
    "# Mine a block with a reward for the miner\n",
    "miner_reward = 5\n",
    "my_blockchain.mine_block(miner_wallet, miner_reward)\n",
    "\n",
    "# Display the blockchain\n",
    "my_blockchain.display_chain()"
   ]
  },
  {
   "cell_type": "markdown",
   "metadata": {},
   "source": [
    "### Recomepensa do miner"
   ]
  },
  {
   "cell_type": "code",
   "execution_count": 286,
   "metadata": {},
   "outputs": [
    {
     "name": "stdout",
     "output_type": "stream",
     "text": [
      "Wallet Miner:\n",
      "  Public Key: 41dc194e498402b206067c5480d0465514fbd11c9f4834e9762ae7419c1e6a1e\n",
      "  Private Key: 8ef55be413558f6208d1d8d37adfe2f14df877fd514f1f68748403c45f4119e7\n",
      "  Balance: 5 units\n"
     ]
    }
   ],
   "source": [
    "miner_wallet.display_all_wallet()"
   ]
  },
  {
   "cell_type": "markdown",
   "metadata": {},
   "source": [
    "### Resultado após Finalização das Transações"
   ]
  },
  {
   "cell_type": "code",
   "execution_count": 287,
   "metadata": {},
   "outputs": [
    {
     "name": "stdout",
     "output_type": "stream",
     "text": [
      "Wallet Alice:\n",
      "  Public Key: fd147a9f01c70dccbef40a31da78d34d4af2e6fda5f437c05b121d0be9cda428\n",
      "  Private Key: 202ee6190a9f3aa40c3d4792a36d1c14bb6b3b9d7ff21788514809ab7c11d281\n",
      "  Balance: 98 units\n",
      "Wallet Bob:\n",
      "  Public Key: 8e412a0238f1c4a0fd877bee6395e20ca9e1094ea4214f4c2e13ab5af9870e06\n",
      "  Private Key: 423227a321216ed9ed326012e9053c3c9d2746e7d573dd7211a7a98995a57ded\n",
      "  Balance: 55 units\n",
      "Wallet Charlie:\n",
      "  Public Key: 74db44b942863ec16933ef2d01237a3c91352d1f965901e59021265359cad2a9\n",
      "  Private Key: 468e953f6241315da3aeac79ad4a9639604350cd362f37aa0e2af30b0c36c354\n",
      "  Balance: 27 units\n"
     ]
    }
   ],
   "source": [
    "alice_wallet.display_all_wallet()\n",
    "bob_wallet.display_all_wallet()\n",
    "charlie_wallet.display_all_wallet()"
   ]
  }
 ],
 "metadata": {
  "kernelspec": {
   "display_name": "Python 3",
   "language": "python",
   "name": "python3"
  },
  "language_info": {
   "codemirror_mode": {
    "name": "ipython",
    "version": 3
   },
   "file_extension": ".py",
   "mimetype": "text/x-python",
   "name": "python",
   "nbconvert_exporter": "python",
   "pygments_lexer": "ipython3",
   "version": "3.10.7"
  }
 },
 "nbformat": 4,
 "nbformat_minor": 2
}
