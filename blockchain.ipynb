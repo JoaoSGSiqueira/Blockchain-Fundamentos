{
 "cells": [
  {
   "cell_type": "code",
   "execution_count": 165,
   "metadata": {},
   "outputs": [],
   "source": [
    "import hashlib\n",
    "import time\n",
    "import random\n",
    "import string"
   ]
  },
  {
   "cell_type": "markdown",
   "metadata": {},
   "source": [
    "### Defines a wallet with a public and private key and balance"
   ]
  },
  {
   "cell_type": "code",
   "execution_count": 225,
   "metadata": {},
   "outputs": [],
   "source": [
    "class Wallet:\n",
    "    def __init__(self, name):\n",
    "        # Generate a random private and public key pair for the wallet\n",
    "        self.name = name\n",
    "        self.private_key = ''.join(random.choices(string.ascii_letters + string.digits, k=32))\n",
    "        self.public_key = hashlib.sha256(self.private_key.encode()).hexdigest()\n",
    "        self.balance = 0\n",
    "\n",
    "    def add_balance(self, amount):\n",
    "        self.balance += amount\n",
    "        return self\n",
    "    \n",
    "    def display_all_wallet(self):\n",
    "        print(f\"Wallet {self.name}:\")\n",
    "        print(f\"  Public Key: {self.public_key}\")\n",
    "        print(f\"  Private Key: {self.private_key}\")\n",
    "        print(f\"  Balance: {self.balance} units\")\n",
    "\n",
    "    def display_public_key(self):\n",
    "        print(f\"Public Key: {self.public_key}\")\n",
    "\n",
    "    def display_private_key(self):\n",
    "        print(f\"Private Key: {self.private_key}\")"
   ]
  },
  {
   "cell_type": "markdown",
   "metadata": {},
   "source": [
    "### Defines the transaction sender, recipient, amount, time, id"
   ]
  },
  {
   "cell_type": "code",
   "execution_count": 226,
   "metadata": {},
   "outputs": [],
   "source": [
    "class Transaction:\n",
    "    def __init__(self, sender, recipient, amount):\n",
    "        self.sender = sender\n",
    "        self.recipient = recipient\n",
    "        self.amount = amount\n",
    "        self.timestamp = time.time()\n",
    "        self.transaction_id = self.calculate_transaction_id()\n",
    "\n",
    "    def calculate_transaction_id(self):\n",
    "        # Hash the transaction details to create a unique identifier\n",
    "        data = f\"{self.sender.public_key if self.sender else 'None'}{self.recipient.public_key}{self.amount}{self.timestamp}\"\n",
    "        return hashlib.sha256(data.encode()).hexdigest()\n",
    "\n",
    "    def execute_transaction(self):\n",
    "        if self.sender and self.sender.balance < self.amount:\n",
    "            raise ValueError(\"Insufficient funds for the transaction.\")\n",
    "\n",
    "        # Deduct the amount from the sender's balance (if sender is not None)\n",
    "        if self.sender:\n",
    "            self.sender.balance -= self.amount\n",
    "\n",
    "        # Add the amount to the recipient's balance\n",
    "        self.recipient.balance += self.amount\n",
    "\n",
    "\n",
    "    def display_transaction(self):\n",
    "        formatted_timestamp = time.strftime(\"%m/%d/%Y %H:%M:%S\", time.localtime(self.timestamp))\n",
    "        print(\"Transaction:\")\n",
    "        print(f\"  Sender Public Key: {self.sender.public_key if self.sender else 'None'}\")\n",
    "        print(f\"  Recipient Public Key: {self.recipient.public_key}\")\n",
    "        print(f\"  Amount: {self.amount}\")\n",
    "        print(f\"  Timestamp: {formatted_timestamp}\")\n",
    "        print(f\"  Transaction ID: {self.transaction_id}\")"
   ]
  },
  {
   "cell_type": "markdown",
   "metadata": {},
   "source": [
    "### Defines the Block which has a number, timestamp, transaction data, previous hash and its hash"
   ]
  },
  {
   "cell_type": "code",
   "execution_count": 227,
   "metadata": {},
   "outputs": [],
   "source": [
    "class Block:\n",
    "    def __init__(self, block_number, previous_hash, transactions):\n",
    "        self.block_number = block_number\n",
    "        self.timestamp = time.time()\n",
    "        self.transactions = transactions\n",
    "        self.previous_hash = previous_hash\n",
    "        self.hash = self.calculate_hash()\n",
    "\n",
    "    def calculate_hash(self):\n",
    "        data = (\n",
    "            str(self.block_number)\n",
    "            + str(self.timestamp)\n",
    "            + str([transaction.transaction_id for transaction in self.transactions])\n",
    "            + str(self.previous_hash)\n",
    "        )\n",
    "        return hashlib.sha256(data.encode()).hexdigest()"
   ]
  },
  {
   "cell_type": "markdown",
   "metadata": {},
   "source": [
    "### Defines the blockchain Creates the first block when called and then has a function to add_blocks (in a real blockchain the Blockchain.chain would be immutable but in this case it isn't)"
   ]
  },
  {
   "cell_type": "code",
   "execution_count": 230,
   "metadata": {},
   "outputs": [],
   "source": [
    "class Blockchain:\n",
    "    def __init__(self):\n",
    "        self.chain = [self.create_genesis_block()]\n",
    "        self.current_transactions = []\n",
    "\n",
    "    def create_genesis_block(self):\n",
    "        # Create the first block in the chain (Genesis Block)\n",
    "        return Block(0, \"0\", [])\n",
    "\n",
    "    def mine_block(self, miner_wallet, miner_reward):\n",
    "        # Create a new block with the pending transactions\n",
    "        new_block = Block(len(self.chain), self.chain[-1].hash, self.current_transactions)\n",
    "        # Reset the list of pending transactions\n",
    "        self.current_transactions = []\n",
    "\n",
    "        # Reward the miner for mining a new block\n",
    "        miner_transaction = Transaction(None, miner_wallet, miner_reward)\n",
    "        miner_transaction.execute_transaction()\n",
    "\n",
    "        # Execute all transactions in the mined block\n",
    "        for transaction in new_block.transactions:\n",
    "            transaction.execute_transaction()\n",
    "\n",
    "        # Add the new block to the blockchain\n",
    "        self.chain.append(new_block)\n",
    "\n",
    "    def add_transaction(self, transaction):\n",
    "        # Ensure that the transaction is valid before adding it to the blockchain\n",
    "        if not isinstance(transaction, Transaction):\n",
    "            raise ValueError(\"Invalid transaction. Must be an instance of the Transaction class.\")\n",
    "\n",
    "        # Execute the transaction and add it to the pending transactions\n",
    "        transaction.execute_transaction()\n",
    "        self.current_transactions.append(transaction)\n",
    "\n",
    "    def display_chain(self):\n",
    "        for block in self.chain:\n",
    "            formatted_timestamp = time.strftime(\"%m/%d/%Y %H:%M:%S\", time.localtime(block.timestamp))\n",
    "            transaction_ids = [transaction.transaction_id for transaction in block.transactions]\n",
    "            print(f\"Block #{block.block_number} | Hash: {block.hash}\")\n",
    "            print(f\"Timestamp: {formatted_timestamp}\")\n",
    "            print(f\"Transaction IDs: {transaction_ids}\")\n",
    "            print(\"--------------\")"
   ]
  },
  {
   "cell_type": "markdown",
   "metadata": {},
   "source": [
    "### Mining"
   ]
  },
  {
   "cell_type": "markdown",
   "metadata": {},
   "source": [
    "--------------\n",
    "1. Transaction: Transfer 10 BTC from Alice to Bob\n",
    "2. Transaction: Transfer 5 BTC from Bob to Charlie\n",
    "3. Transaction: Transfer 2 BTC from Alice to Eve\n",
    "--------------"
   ]
  },
  {
   "cell_type": "markdown",
   "metadata": {},
   "source": [
    "--------------\n",
    "1. Alice(20) -10-> bob, Alice -2-> Eve\n",
    "2. Bob(20) -5-> Charlie\n",
    "3. Charlie(20) \n",
    "4. Eve(20)\n",
    "--------------\n",
    "Result:\n",
    "Alice(8)\n",
    "Bob(25)\n",
    "Charlie(25)\n",
    "Eve(22)"
   ]
  },
  {
   "cell_type": "code",
   "execution_count": 232,
   "metadata": {},
   "outputs": [
    {
     "name": "stdout",
     "output_type": "stream",
     "text": [
      "Wallet Alice:\n",
      "  Public Key: d76725354c1287538c95dc0898051f22d8a3544a8f349733f01f314bd4320eea\n",
      "  Private Key: wUvfo1PjsLoASU7Z3vBx8RYCTduVRxQT\n",
      "  Balance: 100 units\n",
      "Wallet Bob:\n",
      "  Public Key: 43513515edbd55a5854727fc1983b45f56cea86592b5c3e257605e618d9f83a5\n",
      "  Private Key: xAIS5VhcxSeP4WZaNAdG4iXIsuRbf0eC\n",
      "  Balance: 50 units\n",
      "Wallet Charlie:\n",
      "  Public Key: ac3575814ec0152d2907fe9dc2d5eef6d919aee5caeed2ee65fa6d855b69ff0f\n",
      "  Private Key: BwlyhlbZiiWUEA96zb8okfDjEjJQV7jx\n",
      "  Balance: 30 units\n"
     ]
    }
   ],
   "source": [
    "if __name__ == \"__main__\":\n",
    "    # Create wallets\n",
    "    alice_wallet = Wallet(\"Alice\")\n",
    "    bob_wallet = Wallet(\"Bob\")\n",
    "    charlie_wallet = Wallet(\"Charlie\")\n",
    "    miner_wallet = Wallet(\"Miner\")\n",
    "\n",
    "    # Initial balances\n",
    "    alice_wallet.add_balance(100)\n",
    "    bob_wallet.add_balance(50)\n",
    "    charlie_wallet.add_balance(30)\n",
    "\n",
    "# Display initial balances\n",
    "alice_wallet.display_all_wallet()\n",
    "bob_wallet.display_all_wallet()\n",
    "charlie_wallet.display_all_wallet()"
   ]
  },
  {
   "cell_type": "code",
   "execution_count": 233,
   "metadata": {},
   "outputs": [],
   "source": [
    "# Create a blockchain\n",
    "my_blockchain = Blockchain()"
   ]
  },
  {
   "cell_type": "code",
   "execution_count": 234,
   "metadata": {},
   "outputs": [
    {
     "name": "stdout",
     "output_type": "stream",
     "text": [
      "Block #0 | Hash: c306b870dad883528ddb60c395f16bffe0ea46dd9c30a3e9ac8fb29e82552517\n",
      "Timestamp: 12/05/2023 02:04:44\n",
      "Transaction IDs: []\n",
      "--------------\n"
     ]
    }
   ],
   "source": [
    "my_blockchain.display_chain()"
   ]
  },
  {
   "cell_type": "code",
   "execution_count": 235,
   "metadata": {},
   "outputs": [
    {
     "name": "stdout",
     "output_type": "stream",
     "text": [
      "Block #0 | Hash: c306b870dad883528ddb60c395f16bffe0ea46dd9c30a3e9ac8fb29e82552517\n",
      "Timestamp: 12/05/2023 02:04:44\n",
      "Transaction IDs: []\n",
      "--------------\n"
     ]
    }
   ],
   "source": [
    "# Create transactions\n",
    "transaction1 = Transaction(alice_wallet, bob_wallet, 10)\n",
    "transaction2 = Transaction(bob_wallet, charlie_wallet, 5)\n",
    "transaction3 = Transaction(charlie_wallet, alice_wallet, 8)\n",
    "\n",
    "# Add transactions to the blockchain\n",
    "my_blockchain.add_transaction(transaction1)\n",
    "my_blockchain.add_transaction(transaction2)\n",
    "my_blockchain.add_transaction(transaction3)"
   ]
  },
  {
   "cell_type": "code",
   "execution_count": 237,
   "metadata": {},
   "outputs": [
    {
     "name": "stdout",
     "output_type": "stream",
     "text": [
      "Transaction:\n",
      "  Sender Public Key: d76725354c1287538c95dc0898051f22d8a3544a8f349733f01f314bd4320eea\n",
      "  Recipient Public Key: 43513515edbd55a5854727fc1983b45f56cea86592b5c3e257605e618d9f83a5\n",
      "  Amount: 10\n",
      "  Timestamp: 12/05/2023 02:05:18\n",
      "  Transaction ID: 35fdd92f7d958431e98b90f3d2879109ab7c3c42401c4168037a5db435b6b172\n",
      "Transaction:\n",
      "  Sender Public Key: 43513515edbd55a5854727fc1983b45f56cea86592b5c3e257605e618d9f83a5\n",
      "  Recipient Public Key: ac3575814ec0152d2907fe9dc2d5eef6d919aee5caeed2ee65fa6d855b69ff0f\n",
      "  Amount: 5\n",
      "  Timestamp: 12/05/2023 02:05:18\n",
      "  Transaction ID: 03a5cb394f8afc7c4ae417f2a7f54f3657b623bdb9e166e33218df45e196184d\n",
      "Transaction:\n",
      "  Sender Public Key: ac3575814ec0152d2907fe9dc2d5eef6d919aee5caeed2ee65fa6d855b69ff0f\n",
      "  Recipient Public Key: d76725354c1287538c95dc0898051f22d8a3544a8f349733f01f314bd4320eea\n",
      "  Amount: 8\n",
      "  Timestamp: 12/05/2023 02:05:18\n",
      "  Transaction ID: 4514d1db2a1f602e7ce3c577084b184cfd5fb17b48aa38044055b87573f1eb68\n"
     ]
    }
   ],
   "source": [
    "transaction1.display_transaction()\n",
    "transaction2.display_transaction()\n",
    "transaction3.display_transaction()"
   ]
  },
  {
   "cell_type": "code",
   "execution_count": 238,
   "metadata": {},
   "outputs": [
    {
     "name": "stdout",
     "output_type": "stream",
     "text": [
      "Wallet Alice:\n",
      "  Public Key: d76725354c1287538c95dc0898051f22d8a3544a8f349733f01f314bd4320eea\n",
      "  Private Key: wUvfo1PjsLoASU7Z3vBx8RYCTduVRxQT\n",
      "  Balance: 98 units\n",
      "Wallet Bob:\n",
      "  Public Key: 43513515edbd55a5854727fc1983b45f56cea86592b5c3e257605e618d9f83a5\n",
      "  Private Key: xAIS5VhcxSeP4WZaNAdG4iXIsuRbf0eC\n",
      "  Balance: 55 units\n",
      "Wallet Charlie:\n",
      "  Public Key: ac3575814ec0152d2907fe9dc2d5eef6d919aee5caeed2ee65fa6d855b69ff0f\n",
      "  Private Key: BwlyhlbZiiWUEA96zb8okfDjEjJQV7jx\n",
      "  Balance: 27 units\n"
     ]
    }
   ],
   "source": [
    "alice_wallet.display_all_wallet()\n",
    "bob_wallet.display_all_wallet()\n",
    "charlie_wallet.display_all_wallet()"
   ]
  },
  {
   "cell_type": "code",
   "execution_count": 239,
   "metadata": {},
   "outputs": [
    {
     "name": "stdout",
     "output_type": "stream",
     "text": [
      "Block #0 | Hash: c306b870dad883528ddb60c395f16bffe0ea46dd9c30a3e9ac8fb29e82552517\n",
      "Timestamp: 12/05/2023 02:04:44\n",
      "Transaction IDs: []\n",
      "--------------\n",
      "Block #1 | Hash: 8d20fede74633057e0db858c7530e967bd2e6593c75442ac5a96c4a632180ed0\n",
      "Timestamp: 12/05/2023 02:07:42\n",
      "Transaction IDs: ['35fdd92f7d958431e98b90f3d2879109ab7c3c42401c4168037a5db435b6b172', '03a5cb394f8afc7c4ae417f2a7f54f3657b623bdb9e166e33218df45e196184d', '4514d1db2a1f602e7ce3c577084b184cfd5fb17b48aa38044055b87573f1eb68']\n",
      "--------------\n"
     ]
    }
   ],
   "source": [
    "# Mine a block with a reward for the miner\n",
    "miner_reward = 5\n",
    "my_blockchain.mine_block(miner_wallet, miner_reward)\n",
    "\n",
    "# Display the blockchain\n",
    "my_blockchain.display_chain()"
   ]
  }
 ],
 "metadata": {
  "kernelspec": {
   "display_name": "Python 3",
   "language": "python",
   "name": "python3"
  },
  "language_info": {
   "codemirror_mode": {
    "name": "ipython",
    "version": 3
   },
   "file_extension": ".py",
   "mimetype": "text/x-python",
   "name": "python",
   "nbconvert_exporter": "python",
   "pygments_lexer": "ipython3",
   "version": "3.10.7"
  }
 },
 "nbformat": 4,
 "nbformat_minor": 2
}
