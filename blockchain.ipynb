{
 "cells": [
  {
   "cell_type": "code",
   "execution_count": 245,
   "metadata": {},
   "outputs": [],
   "source": [
    "import hashlib\n",
    "import time\n",
    "import ecdsa\n",
    "import random\n",
    "import string"
   ]
  },
  {
   "cell_type": "markdown",
   "metadata": {},
   "source": [
    "### Defines a wallet with a public and private key and balance"
   ]
  },
  {
   "cell_type": "code",
   "execution_count": 246,
   "metadata": {},
   "outputs": [],
   "source": [
    "class Wallet:\n",
    "    def __init__(self, name):\n",
    "        # Generate a random private and public key pair for the wallet using secp256k1 curve\n",
    "        self.name = name\n",
    "        self.private_key = ecdsa.SigningKey.generate(curve=ecdsa.SECP256k1).to_string().hex()\n",
    "        self.public_key = hashlib.sha256(self.private_key.encode()).hexdigest()\n",
    "        self.balance = 0\n",
    "\n",
    "    def add_balance(self, amount):\n",
    "        self.balance += amount\n",
    "        return self\n",
    "    \n",
    "    def display_all_wallet(self):\n",
    "        print(f\"Wallet {self.name}:\")\n",
    "        print(f\"  Public Key: {self.public_key}\")\n",
    "        print(f\"  Private Key: {self.private_key}\")\n",
    "        print(f\"  Balance: {self.balance} units\")\n",
    "\n",
    "    def display_public_key(self):\n",
    "        print(f\"Public Key: {self.public_key}\")\n",
    "\n",
    "    def display_private_key(self):\n",
    "        print(f\"Private Key: {self.private_key}\")"
   ]
  },
  {
   "cell_type": "markdown",
   "metadata": {},
   "source": [
    "### Defines the transaction sender, recipient, amount, time, id"
   ]
  },
  {
   "cell_type": "code",
   "execution_count": 247,
   "metadata": {},
   "outputs": [],
   "source": [
    "class Transaction:\n",
    "    def __init__(self, sender, recipient, amount):\n",
    "        self.sender = sender\n",
    "        self.recipient = recipient\n",
    "        self.amount = amount\n",
    "        self.timestamp = time.time()\n",
    "        self.transaction_id = self.calculate_transaction_id()\n",
    "\n",
    "    def calculate_transaction_id(self):\n",
    "        # Hash the transaction details to create a unique identifier\n",
    "        data = f\"{self.sender.public_key if self.sender else 'None'}{self.recipient.public_key}{self.amount}{self.timestamp}\"\n",
    "        return hashlib.sha256(data.encode()).hexdigest()\n",
    "\n",
    "    def execute_transaction(self):\n",
    "        if self.sender and self.sender.balance < self.amount:\n",
    "            raise ValueError(\"Insufficient funds for the transaction.\")\n",
    "\n",
    "        # Deduct the amount from the sender's balance (if sender is not None)\n",
    "        if self.sender:\n",
    "            self.sender.balance -= self.amount\n",
    "\n",
    "        # Add the amount to the recipient's balance\n",
    "        self.recipient.balance += self.amount\n",
    "\n",
    "\n",
    "    def display_transaction(self):\n",
    "        formatted_timestamp = time.strftime(\"%m/%d/%Y %H:%M:%S\", time.localtime(self.timestamp))\n",
    "        print(\"Transaction:\")\n",
    "        print(f\"  Sender Public Key: {self.sender.public_key if self.sender else 'None'}\")\n",
    "        print(f\"  Recipient Public Key: {self.recipient.public_key}\")\n",
    "        print(f\"  Amount: {self.amount}\")\n",
    "        print(f\"  Timestamp: {formatted_timestamp}\")\n",
    "        print(f\"  Transaction ID: {self.transaction_id}\")"
   ]
  },
  {
   "cell_type": "markdown",
   "metadata": {},
   "source": [
    "### Defines the Block which has a number, timestamp, transaction data, previous hash and its hash"
   ]
  },
  {
   "cell_type": "code",
   "execution_count": 248,
   "metadata": {},
   "outputs": [],
   "source": [
    "class Block:\n",
    "    def __init__(self, block_number, previous_hash, transactions):\n",
    "        self.block_number = block_number\n",
    "        self.timestamp = time.time()\n",
    "        self.transactions = transactions\n",
    "        self.previous_hash = previous_hash\n",
    "        self.hash = self.calculate_hash()\n",
    "\n",
    "    def calculate_hash(self):\n",
    "        data = (\n",
    "            str(self.block_number)\n",
    "            + str(self.timestamp)\n",
    "            + str([transaction.transaction_id for transaction in self.transactions])\n",
    "            + str(self.previous_hash)\n",
    "        )\n",
    "        return hashlib.sha256(data.encode()).hexdigest()"
   ]
  },
  {
   "cell_type": "markdown",
   "metadata": {},
   "source": [
    "### Defines the blockchain Creates the first block when called and then has a function to add_blocks (in a real blockchain the Blockchain.chain would be immutable but in this case it isn't)"
   ]
  },
  {
   "cell_type": "code",
   "execution_count": 266,
   "metadata": {},
   "outputs": [],
   "source": [
    "class Blockchain:\n",
    "    def __init__(self):\n",
    "        self.chain = [self.create_genesis_block()]\n",
    "        self.current_transactions = []\n",
    "\n",
    "    def create_genesis_block(self):\n",
    "        # Create the first block in the chain (Genesis Block)\n",
    "        return Block(0, \"0\", [])\n",
    "\n",
    "    def mine_block(self, miner_wallet, miner_reward):\n",
    "        # Create a new block with the pending transactions\n",
    "        new_block = Block(len(self.chain), self.chain[-1].hash, self.current_transactions)\n",
    "        # Reset the list of pending transactions\n",
    "        self.current_transactions = []\n",
    "\n",
    "        # Reward the miner for mining a new block\n",
    "        miner_transaction = Transaction(None, miner_wallet, miner_reward)\n",
    "        miner_transaction.execute_transaction()\n",
    "\n",
    "        # Execute all transactions in the mined block\n",
    "        for transaction in new_block.transactions:\n",
    "            transaction.execute_transaction()\n",
    "\n",
    "        # Add the new block to the blockchain\n",
    "        self.chain.append(new_block)\n",
    "\n",
    "    def add_transaction(self, transaction):\n",
    "        # Ensure that the transaction is valid before adding it to the blockchain\n",
    "        if not isinstance(transaction, Transaction):\n",
    "            raise ValueError(\"Invalid transaction. Must be an instance of the Transaction class.\")\n",
    "\n",
    "        if transaction.sender:\n",
    "            if transaction.sender.balance < transaction.amount:\n",
    "                raise ValueError(\"Insufficient funds for the transaction.\")\n",
    "\n",
    "            # Deduct the amount from the sender's balance\n",
    "            transaction.sender.balance -= transaction.amount\n",
    "\n",
    "        # Add the transaction to the list of current transactions\n",
    "        self.current_transactions.append(transaction)\n",
    "\n",
    "    def display_chain(self):\n",
    "        for block in self.chain:\n",
    "            formatted_timestamp = time.strftime(\"%m/%d/%Y %H:%M:%S\", time.localtime(block.timestamp))\n",
    "            transaction_ids = [transaction.transaction_id for transaction in block.transactions]\n",
    "            print(f\"Block #{block.block_number} | Hash: {block.hash}\")\n",
    "            print(f\"Timestamp: {formatted_timestamp}\")\n",
    "            print(f\"Transaction IDs: {transaction_ids}\")\n",
    "            print(\"--------------\")"
   ]
  },
  {
   "cell_type": "markdown",
   "metadata": {},
   "source": [
    "### Mining"
   ]
  },
  {
   "cell_type": "markdown",
   "metadata": {},
   "source": [
    "--------------\n",
    "1. Transaction: Transfer 10 BTC from Alice to Bob\n",
    "2. Transaction: Transfer 5 BTC from Bob to Charlie\n",
    "3. Transaction: Transfer 8 BTC from Charlie to Alice\n",
    "--------------"
   ]
  },
  {
   "cell_type": "code",
   "execution_count": 267,
   "metadata": {},
   "outputs": [
    {
     "name": "stdout",
     "output_type": "stream",
     "text": [
      "Wallet Alice:\n",
      "  Public Key: 40e64ab6a31bc94ea4c53c5ed0ce2758debb6f6c31b5f2efe77a272481bf79fb\n",
      "  Private Key: fca7c2d361a0f8bbf374ee50ff2196e30a473c9448e08263d02b8fd01bff8bb8\n",
      "  Balance: 100 units\n",
      "Wallet Bob:\n",
      "  Public Key: 871e92734d9e9375821ce7b549d8b9a36f40f369f08f5e50d48eaf6aab7a6126\n",
      "  Private Key: 2c6ac928db402e5de10871747a221ebdca67d75c8c1e92d6cd00cf425e443e03\n",
      "  Balance: 50 units\n",
      "Wallet Charlie:\n",
      "  Public Key: 1bba165285537222c9b9a30740a0b494d8e9cb00485645214a329d2753712baa\n",
      "  Private Key: 63c4d5eff190fa87da9e3b48a572bccb357427f3a61c756e8999c5f37bc2b028\n",
      "  Balance: 30 units\n"
     ]
    }
   ],
   "source": [
    "if __name__ == \"__main__\":\n",
    "    # Create wallets\n",
    "    alice_wallet = Wallet(\"Alice\")\n",
    "    bob_wallet = Wallet(\"Bob\")\n",
    "    charlie_wallet = Wallet(\"Charlie\")\n",
    "    miner_wallet = Wallet(\"Miner\")\n",
    "\n",
    "    # Initial balances\n",
    "    alice_wallet.add_balance(100)\n",
    "    bob_wallet.add_balance(50)\n",
    "    charlie_wallet.add_balance(30)\n",
    "\n",
    "# Display initial balances\n",
    "alice_wallet.display_all_wallet()\n",
    "bob_wallet.display_all_wallet()\n",
    "charlie_wallet.display_all_wallet()"
   ]
  },
  {
   "cell_type": "code",
   "execution_count": 268,
   "metadata": {},
   "outputs": [],
   "source": [
    "# Create a blockchain\n",
    "my_blockchain = Blockchain()"
   ]
  },
  {
   "cell_type": "code",
   "execution_count": 269,
   "metadata": {},
   "outputs": [
    {
     "name": "stdout",
     "output_type": "stream",
     "text": [
      "Block #0 | Hash: 48d1690ec1ad83be939df9bbf9813ed0ec53d771c21a9a956f971358bd5c5e67\n",
      "Timestamp: 12/05/2023 02:23:11\n",
      "Transaction IDs: []\n",
      "--------------\n"
     ]
    }
   ],
   "source": [
    "my_blockchain.display_chain() # Should only display the genesis block"
   ]
  },
  {
   "cell_type": "markdown",
   "metadata": {},
   "source": [
    "### Cria as transações e as executa (ainda não terminaram)"
   ]
  },
  {
   "cell_type": "code",
   "execution_count": 270,
   "metadata": {},
   "outputs": [],
   "source": [
    "# Create transactions\n",
    "transaction1 = Transaction(alice_wallet, bob_wallet, 10)\n",
    "transaction2 = Transaction(bob_wallet, charlie_wallet, 5)\n",
    "transaction3 = Transaction(charlie_wallet, alice_wallet, 8)\n",
    "\n",
    "# Add transactions to the blockchain\n",
    "my_blockchain.add_transaction(transaction1)\n",
    "my_blockchain.add_transaction(transaction2)\n",
    "my_blockchain.add_transaction(transaction3)"
   ]
  },
  {
   "cell_type": "markdown",
   "metadata": {},
   "source": [
    "### Balanço Inicial das 3 Carteiras"
   ]
  },
  {
   "cell_type": "code",
   "execution_count": 271,
   "metadata": {},
   "outputs": [
    {
     "name": "stdout",
     "output_type": "stream",
     "text": [
      "Wallet Alice:\n",
      "  Public Key: 40e64ab6a31bc94ea4c53c5ed0ce2758debb6f6c31b5f2efe77a272481bf79fb\n",
      "  Private Key: fca7c2d361a0f8bbf374ee50ff2196e30a473c9448e08263d02b8fd01bff8bb8\n",
      "  Balance: 90 units\n",
      "Wallet Bob:\n",
      "  Public Key: 871e92734d9e9375821ce7b549d8b9a36f40f369f08f5e50d48eaf6aab7a6126\n",
      "  Private Key: 2c6ac928db402e5de10871747a221ebdca67d75c8c1e92d6cd00cf425e443e03\n",
      "  Balance: 45 units\n",
      "Wallet Charlie:\n",
      "  Public Key: 1bba165285537222c9b9a30740a0b494d8e9cb00485645214a329d2753712baa\n",
      "  Private Key: 63c4d5eff190fa87da9e3b48a572bccb357427f3a61c756e8999c5f37bc2b028\n",
      "  Balance: 22 units\n"
     ]
    }
   ],
   "source": [
    "alice_wallet.display_all_wallet()\n",
    "bob_wallet.display_all_wallet()\n",
    "charlie_wallet.display_all_wallet()"
   ]
  },
  {
   "cell_type": "markdown",
   "metadata": {},
   "source": [
    "### Publico Todos podem ver"
   ]
  },
  {
   "cell_type": "code",
   "execution_count": 272,
   "metadata": {},
   "outputs": [
    {
     "name": "stdout",
     "output_type": "stream",
     "text": [
      "Transaction:\n",
      "  Sender Public Key: 40e64ab6a31bc94ea4c53c5ed0ce2758debb6f6c31b5f2efe77a272481bf79fb\n",
      "  Recipient Public Key: 871e92734d9e9375821ce7b549d8b9a36f40f369f08f5e50d48eaf6aab7a6126\n",
      "  Amount: 10\n",
      "  Timestamp: 12/05/2023 02:23:15\n",
      "  Transaction ID: 4afec8eba43c268ba38eda991cda2bc1643f07dd06dd4cb35a44e810e24cb066\n",
      "Transaction:\n",
      "  Sender Public Key: 871e92734d9e9375821ce7b549d8b9a36f40f369f08f5e50d48eaf6aab7a6126\n",
      "  Recipient Public Key: 1bba165285537222c9b9a30740a0b494d8e9cb00485645214a329d2753712baa\n",
      "  Amount: 5\n",
      "  Timestamp: 12/05/2023 02:23:15\n",
      "  Transaction ID: 816123fe45c7bc195742da2079c998f7d623e1f88cb67f9a5c25930229478c14\n",
      "Transaction:\n",
      "  Sender Public Key: 1bba165285537222c9b9a30740a0b494d8e9cb00485645214a329d2753712baa\n",
      "  Recipient Public Key: 40e64ab6a31bc94ea4c53c5ed0ce2758debb6f6c31b5f2efe77a272481bf79fb\n",
      "  Amount: 8\n",
      "  Timestamp: 12/05/2023 02:23:15\n",
      "  Transaction ID: fe6376ba38f536dcf1013f2079b1b1cb4afa9a988e8cc37fcf5d6cc93a9980fa\n"
     ]
    }
   ],
   "source": [
    "transaction1.display_transaction()\n",
    "transaction2.display_transaction()\n",
    "transaction3.display_transaction()"
   ]
  },
  {
   "cell_type": "markdown",
   "metadata": {},
   "source": [
    "### Bloco Minerado e final da transação"
   ]
  },
  {
   "cell_type": "code",
   "execution_count": 273,
   "metadata": {},
   "outputs": [
    {
     "name": "stdout",
     "output_type": "stream",
     "text": [
      "Block #0 | Hash: 48d1690ec1ad83be939df9bbf9813ed0ec53d771c21a9a956f971358bd5c5e67\n",
      "Timestamp: 12/05/2023 02:23:11\n",
      "Transaction IDs: []\n",
      "--------------\n",
      "Block #1 | Hash: 37033edb85105bdb857b314a6b689ba462e75aad7cf9df83c6e7303531b2e560\n",
      "Timestamp: 12/05/2023 02:23:30\n",
      "Transaction IDs: ['4afec8eba43c268ba38eda991cda2bc1643f07dd06dd4cb35a44e810e24cb066', '816123fe45c7bc195742da2079c998f7d623e1f88cb67f9a5c25930229478c14', 'fe6376ba38f536dcf1013f2079b1b1cb4afa9a988e8cc37fcf5d6cc93a9980fa']\n",
      "--------------\n"
     ]
    }
   ],
   "source": [
    "# Mine a block with a reward for the miner\n",
    "miner_reward = 5\n",
    "my_blockchain.mine_block(miner_wallet, miner_reward)\n",
    "\n",
    "# Display the blockchain\n",
    "my_blockchain.display_chain()"
   ]
  },
  {
   "cell_type": "markdown",
   "metadata": {},
   "source": [
    "### Recomepensa do miner"
   ]
  },
  {
   "cell_type": "code",
   "execution_count": 258,
   "metadata": {},
   "outputs": [
    {
     "name": "stdout",
     "output_type": "stream",
     "text": [
      "Wallet Miner:\n",
      "  Public Key: 310cdb87a48f4494589e0e26c2490825fbeaeb587618630e8f776b61092c2205\n",
      "  Private Key: e9ee0ab2f804036316cf95379799703faad961af923fbcae0c3e264b08b10522\n",
      "  Balance: 5 units\n"
     ]
    }
   ],
   "source": [
    "miner_wallet.display_all_wallet()"
   ]
  },
  {
   "cell_type": "markdown",
   "metadata": {},
   "source": [
    "### Resultado após Finalização das Transações"
   ]
  },
  {
   "cell_type": "code",
   "execution_count": 274,
   "metadata": {},
   "outputs": [
    {
     "name": "stdout",
     "output_type": "stream",
     "text": [
      "Wallet Alice:\n",
      "  Public Key: 40e64ab6a31bc94ea4c53c5ed0ce2758debb6f6c31b5f2efe77a272481bf79fb\n",
      "  Private Key: fca7c2d361a0f8bbf374ee50ff2196e30a473c9448e08263d02b8fd01bff8bb8\n",
      "  Balance: 88 units\n",
      "Wallet Bob:\n",
      "  Public Key: 871e92734d9e9375821ce7b549d8b9a36f40f369f08f5e50d48eaf6aab7a6126\n",
      "  Private Key: 2c6ac928db402e5de10871747a221ebdca67d75c8c1e92d6cd00cf425e443e03\n",
      "  Balance: 50 units\n",
      "Wallet Charlie:\n",
      "  Public Key: 1bba165285537222c9b9a30740a0b494d8e9cb00485645214a329d2753712baa\n",
      "  Private Key: 63c4d5eff190fa87da9e3b48a572bccb357427f3a61c756e8999c5f37bc2b028\n",
      "  Balance: 19 units\n"
     ]
    }
   ],
   "source": [
    "alice_wallet.display_all_wallet()\n",
    "bob_wallet.display_all_wallet()\n",
    "charlie_wallet.display_all_wallet()"
   ]
  }
 ],
 "metadata": {
  "kernelspec": {
   "display_name": "Python 3",
   "language": "python",
   "name": "python3"
  },
  "language_info": {
   "codemirror_mode": {
    "name": "ipython",
    "version": 3
   },
   "file_extension": ".py",
   "mimetype": "text/x-python",
   "name": "python",
   "nbconvert_exporter": "python",
   "pygments_lexer": "ipython3",
   "version": "3.10.7"
  }
 },
 "nbformat": 4,
 "nbformat_minor": 2
}
